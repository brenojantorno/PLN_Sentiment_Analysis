{
 "cells": [
  {
   "cell_type": "code",
   "execution_count": 2,
   "metadata": {
    "tags": []
   },
   "outputs": [],
   "source": [
    "#Lib para manipulação de dados\n",
    "import numpy as np\n",
    "import pandas as pd\n",
    "import matplotlib.pyplot as plt\n",
    "\n",
    "# IO bibliotecas\n",
    "import os\n",
    "import csv\n",
    "\n",
    "# Visualização de progressão para laços\n",
    "from tqdm import tqdm"
   ]
  },
  {
   "cell_type": "code",
   "execution_count": 3,
   "metadata": {},
   "outputs": [
    {
     "data": {
      "text/html": [
       "<div>\n",
       "<style scoped>\n",
       "    .dataframe tbody tr th:only-of-type {\n",
       "        vertical-align: middle;\n",
       "    }\n",
       "\n",
       "    .dataframe tbody tr th {\n",
       "        vertical-align: top;\n",
       "    }\n",
       "\n",
       "    .dataframe thead th {\n",
       "        text-align: right;\n",
       "    }\n",
       "</style>\n",
       "<table border=\"1\" class=\"dataframe\">\n",
       "  <thead>\n",
       "    <tr style=\"text-align: right;\">\n",
       "      <th></th>\n",
       "      <th>Unnamed: 0</th>\n",
       "      <th>Created At</th>\n",
       "      <th>Text</th>\n",
       "      <th>Geo Coordinates.latitude</th>\n",
       "      <th>Geo Coordinates.longitude</th>\n",
       "      <th>User Location</th>\n",
       "      <th>Username</th>\n",
       "      <th>User Screen Name</th>\n",
       "      <th>Retweet Count</th>\n",
       "      <th>Classificacao</th>\n",
       "      <th>...</th>\n",
       "      <th>Unnamed: 15</th>\n",
       "      <th>Unnamed: 16</th>\n",
       "      <th>Unnamed: 17</th>\n",
       "      <th>Unnamed: 18</th>\n",
       "      <th>Unnamed: 19</th>\n",
       "      <th>Unnamed: 20</th>\n",
       "      <th>Unnamed: 21</th>\n",
       "      <th>Unnamed: 22</th>\n",
       "      <th>Unnamed: 23</th>\n",
       "      <th>Unnamed: 24</th>\n",
       "    </tr>\n",
       "  </thead>\n",
       "  <tbody>\n",
       "    <tr>\n",
       "      <th>0</th>\n",
       "      <td>0</td>\n",
       "      <td>Sun Jan 08 01:22:05 +0000 2017</td>\n",
       "      <td>���⛪ @ Catedral de Santo Antônio - Governador ...</td>\n",
       "      <td>NaN</td>\n",
       "      <td>NaN</td>\n",
       "      <td>Brasil</td>\n",
       "      <td>Leonardo C Schneider</td>\n",
       "      <td>LeoCSchneider</td>\n",
       "      <td>0</td>\n",
       "      <td>Neutro</td>\n",
       "      <td>...</td>\n",
       "      <td>NaN</td>\n",
       "      <td>NaN</td>\n",
       "      <td>NaN</td>\n",
       "      <td>NaN</td>\n",
       "      <td>NaN</td>\n",
       "      <td>NaN</td>\n",
       "      <td>NaN</td>\n",
       "      <td>NaN</td>\n",
       "      <td>NaN</td>\n",
       "      <td>NaN</td>\n",
       "    </tr>\n",
       "    <tr>\n",
       "      <th>1</th>\n",
       "      <td>1</td>\n",
       "      <td>Sun Jan 08 01:49:01 +0000 2017</td>\n",
       "      <td>� @ Governador Valadares, Minas Gerais https:/...</td>\n",
       "      <td>-41.9333</td>\n",
       "      <td>-18.85</td>\n",
       "      <td>NaN</td>\n",
       "      <td>Wândell</td>\n",
       "      <td>klefnews</td>\n",
       "      <td>0</td>\n",
       "      <td>Neutro</td>\n",
       "      <td>...</td>\n",
       "      <td>NaN</td>\n",
       "      <td>NaN</td>\n",
       "      <td>NaN</td>\n",
       "      <td>NaN</td>\n",
       "      <td>NaN</td>\n",
       "      <td>NaN</td>\n",
       "      <td>NaN</td>\n",
       "      <td>NaN</td>\n",
       "      <td>NaN</td>\n",
       "      <td>NaN</td>\n",
       "    </tr>\n",
       "    <tr>\n",
       "      <th>2</th>\n",
       "      <td>2</td>\n",
       "      <td>Sun Jan 08 01:01:46 +0000 2017</td>\n",
       "      <td>�� @ Governador Valadares, Minas Gerais https:...</td>\n",
       "      <td>-41.9333</td>\n",
       "      <td>-18.85</td>\n",
       "      <td>NaN</td>\n",
       "      <td>Wândell</td>\n",
       "      <td>klefnews</td>\n",
       "      <td>0</td>\n",
       "      <td>Neutro</td>\n",
       "      <td>...</td>\n",
       "      <td>NaN</td>\n",
       "      <td>NaN</td>\n",
       "      <td>NaN</td>\n",
       "      <td>NaN</td>\n",
       "      <td>NaN</td>\n",
       "      <td>NaN</td>\n",
       "      <td>NaN</td>\n",
       "      <td>NaN</td>\n",
       "      <td>NaN</td>\n",
       "      <td>NaN</td>\n",
       "    </tr>\n",
       "    <tr>\n",
       "      <th>3</th>\n",
       "      <td>3</td>\n",
       "      <td>Wed Jan 04 21:43:51 +0000 2017</td>\n",
       "      <td>��� https://t.co/BnDsO34qK0</td>\n",
       "      <td>NaN</td>\n",
       "      <td>NaN</td>\n",
       "      <td>NaN</td>\n",
       "      <td>Ana estudando</td>\n",
       "      <td>estudandoconcur</td>\n",
       "      <td>0</td>\n",
       "      <td>Neutro</td>\n",
       "      <td>...</td>\n",
       "      <td>NaN</td>\n",
       "      <td>NaN</td>\n",
       "      <td>NaN</td>\n",
       "      <td>NaN</td>\n",
       "      <td>NaN</td>\n",
       "      <td>NaN</td>\n",
       "      <td>NaN</td>\n",
       "      <td>NaN</td>\n",
       "      <td>NaN</td>\n",
       "      <td>NaN</td>\n",
       "    </tr>\n",
       "    <tr>\n",
       "      <th>4</th>\n",
       "      <td>4</td>\n",
       "      <td>Mon Jan 09 15:08:21 +0000 2017</td>\n",
       "      <td>��� PSOL vai questionar aumento de vereadores ...</td>\n",
       "      <td>NaN</td>\n",
       "      <td>NaN</td>\n",
       "      <td>NaN</td>\n",
       "      <td>Emily</td>\n",
       "      <td>Milly777</td>\n",
       "      <td>0</td>\n",
       "      <td>Negativo</td>\n",
       "      <td>...</td>\n",
       "      <td>NaN</td>\n",
       "      <td>NaN</td>\n",
       "      <td>NaN</td>\n",
       "      <td>NaN</td>\n",
       "      <td>NaN</td>\n",
       "      <td>NaN</td>\n",
       "      <td>NaN</td>\n",
       "      <td>NaN</td>\n",
       "      <td>NaN</td>\n",
       "      <td>NaN</td>\n",
       "    </tr>\n",
       "  </tbody>\n",
       "</table>\n",
       "<p>5 rows × 26 columns</p>\n",
       "</div>"
      ],
      "text/plain": [
       "   Unnamed: 0                      Created At  \\\n",
       "0           0  Sun Jan 08 01:22:05 +0000 2017   \n",
       "1           1  Sun Jan 08 01:49:01 +0000 2017   \n",
       "2           2  Sun Jan 08 01:01:46 +0000 2017   \n",
       "3           3  Wed Jan 04 21:43:51 +0000 2017   \n",
       "4           4  Mon Jan 09 15:08:21 +0000 2017   \n",
       "\n",
       "                                                Text  \\\n",
       "0  ���⛪ @ Catedral de Santo Antônio - Governador ...   \n",
       "1  � @ Governador Valadares, Minas Gerais https:/...   \n",
       "2  �� @ Governador Valadares, Minas Gerais https:...   \n",
       "3                        ��� https://t.co/BnDsO34qK0   \n",
       "4  ��� PSOL vai questionar aumento de vereadores ...   \n",
       "\n",
       "   Geo Coordinates.latitude  Geo Coordinates.longitude User Location  \\\n",
       "0                       NaN                        NaN        Brasil   \n",
       "1                  -41.9333                     -18.85           NaN   \n",
       "2                  -41.9333                     -18.85           NaN   \n",
       "3                       NaN                        NaN           NaN   \n",
       "4                       NaN                        NaN           NaN   \n",
       "\n",
       "               Username User Screen Name  Retweet Count Classificacao  \\\n",
       "0  Leonardo C Schneider    LeoCSchneider              0        Neutro   \n",
       "1               Wândell         klefnews              0        Neutro   \n",
       "2               Wândell         klefnews              0        Neutro   \n",
       "3         Ana estudando  estudandoconcur              0        Neutro   \n",
       "4                 Emily         Milly777              0      Negativo   \n",
       "\n",
       "      ...      Unnamed: 15  Unnamed: 16  Unnamed: 17  Unnamed: 18  \\\n",
       "0     ...              NaN          NaN          NaN          NaN   \n",
       "1     ...              NaN          NaN          NaN          NaN   \n",
       "2     ...              NaN          NaN          NaN          NaN   \n",
       "3     ...              NaN          NaN          NaN          NaN   \n",
       "4     ...              NaN          NaN          NaN          NaN   \n",
       "\n",
       "   Unnamed: 19  Unnamed: 20  Unnamed: 21  Unnamed: 22  Unnamed: 23  \\\n",
       "0          NaN          NaN          NaN          NaN          NaN   \n",
       "1          NaN          NaN          NaN          NaN          NaN   \n",
       "2          NaN          NaN          NaN          NaN          NaN   \n",
       "3          NaN          NaN          NaN          NaN          NaN   \n",
       "4          NaN          NaN          NaN          NaN          NaN   \n",
       "\n",
       "   Unnamed: 24  \n",
       "0          NaN  \n",
       "1          NaN  \n",
       "2          NaN  \n",
       "3          NaN  \n",
       "4          NaN  \n",
       "\n",
       "[5 rows x 26 columns]"
      ]
     },
     "execution_count": 3,
     "metadata": {},
     "output_type": "execute_result"
    }
   ],
   "source": [
    "# Twetters sobre o estado de minas gerais\n",
    "twetter_df =  pd.read_csv(\"./archive/tw_pt.csv\")\n",
    "twetter_df.head()"
   ]
  },
  {
   "cell_type": "markdown",
   "metadata": {
    "tags": []
   },
   "source": [
    "# StopWords Remoção\n",
    "<p> A remoção dos stopWords serve para que o algoritmo de machine learning foque nas frases principais e não nas mais comuns usadas pela lingua <p/>"
   ]
  },
  {
   "cell_type": "code",
   "execution_count": 6,
   "metadata": {},
   "outputs": [],
   "source": [
    "#NLTK — The Natural Language ToolKit is one of the best-known and most-used NLP libraries, \n",
    "#useful for all sorts of tasks from tokenization, stemming, tagging, parsing, and beyond\n",
    "import nltk\n",
    "# Remoção de acentos graficos\n",
    "import unidecode\n",
    "\n",
    "# regex\n",
    "import re\n",
    "\n",
    "from nltk.tokenize import word_tokenize\n",
    "from nltk.tokenize import sent_tokenize\n",
    "from nltk.corpus import stopwords\n",
    "from nltk.tokenize import word_tokenize\n",
    "from nltk.stem import PorterStemmer\n",
    "\n",
    "# Machine learning\n",
    "from sklearn.feature_extraction.text import CountVectorizer  # tf\n",
    "from sklearn.feature_extraction.text import TfidfVectorizer # tf-idf"
   ]
  },
  {
   "cell_type": "code",
   "execution_count": 7,
   "metadata": {
    "tags": []
   },
   "outputs": [
    {
     "name": "stdout",
     "output_type": "stream",
     "text": [
      "[nltk_data] Downloading package stopwords to\n",
      "[nltk_data]     C:\\Users\\aluno.laboratorio\\AppData\\Roaming\\nltk_data..\n",
      "[nltk_data]     .\n",
      "[nltk_data]   Unzipping corpora\\stopwords.zip.\n",
      "[nltk_data] Downloading package punkt to\n",
      "[nltk_data]     C:\\Users\\aluno.laboratorio\\AppData\\Roaming\\nltk_data..\n",
      "[nltk_data]     .\n",
      "[nltk_data]   Unzipping tokenizers\\punkt.zip.\n"
     ]
    },
    {
     "data": {
      "text/plain": [
       "True"
      ]
     },
     "execution_count": 7,
     "metadata": {},
     "output_type": "execute_result"
    }
   ],
   "source": [
    "nltk.download(\"stopwords\")\n",
    "nltk.download('punkt')"
   ]
  },
  {
   "cell_type": "code",
   "execution_count": 8,
   "metadata": {},
   "outputs": [],
   "source": [
    "# Configurando para a lingua portuguesa\n",
    "stop_words = set(stopwords.words('portuguese'))"
   ]
  },
  {
   "cell_type": "code",
   "execution_count": 28,
   "metadata": {},
   "outputs": [
    {
     "name": "stdout",
     "output_type": "stream",
     "text": [
      "<class 'str'>\n",
      "<class 'str'>\n",
      "<class 'str'>\n",
      "<class 'str'>\n"
     ]
    }
   ],
   "source": [
    "\n",
    "from nltk.stem import PorterStemmer\n",
    "from nltk.tokenize import sent_tokenize, word_tokenize\n",
    "\n",
    "words = [\"game\",\"gaming\",\"gamed\",\"games\"]\n",
    "ps = PorterStemmer()\n",
    "\n",
    "for w in words:\n",
    "    print(type(ps.stem(w)))"
   ]
  },
  {
   "cell_type": "code",
   "execution_count": 29,
   "metadata": {},
   "outputs": [],
   "source": [
    "def removerStopWords(texto):\n",
    "    #Tokenização\n",
    "    word_tokens =  word_tokenize(texto)\n",
    "    \n",
    "    ps = PorterStemmer()\n",
    "    \n",
    "    steamming_words = []\n",
    "    \n",
    "    for word in word_tokens:\n",
    "        steamming_words.append(ps.stem(word))\n",
    "    \n",
    "    #Limpa os tokens removendo as stopwords da lingua portuguesa e converte para string, sem o join retorna um array\n",
    "    sentencas_filtradas =  ' '.join([p for p in steamming_words if not p.lower() in stop_words])         \n",
    "    \n",
    "    return sentencas_filtradas.strip()    "
   ]
  },
  {
   "cell_type": "code",
   "execution_count": 30,
   "metadata": {},
   "outputs": [],
   "source": [
    "def limparTexto(dataFrame):\n",
    "    result =  pd.DataFrame()\n",
    "    #Percorrer data linha do data frame\n",
    "    for row in tqdm(dataFrame.itertuples(index=True, name=\"Pandas\"), desc=\"Limpar stopWords\"):\n",
    "        Text = row.Text\n",
    "        Classificacao = row.Classificacao\n",
    "        \n",
    "        #Realiza a limpeza de caracteres indesejados no texto.\n",
    "        \n",
    "        Text = unidecode.unidecode(Text)\n",
    "        Text = re.sub(r'http\\S+', '', Text)\n",
    "        Text = removerStopWords(Text)\n",
    "        Text = Text.replace(\" . \",\" \")\n",
    "        Text = Text.replace(\" , \",\" \")\n",
    "        Text = Text.replace(\" - \",\" \")\n",
    "        Text = Text.replace(\" : \",\" \")\n",
    "        Text = Text.replace(\" @ \",\" \")\n",
    "        Text = Text.replace(\" # \",\" \")\n",
    "        Text = Text.lower().strip()\n",
    "    \n",
    "        # Cria um novo dataframe e o concatena ao existente. \n",
    "        linha = pd.Series([Text, Classificacao])        \n",
    "        linha = pd.DataFrame([linha])        \n",
    "        result = pd.concat([linha, result], ignore_index=True)       \n",
    "    \n",
    "    return result"
   ]
  },
  {
   "cell_type": "code",
   "execution_count": 31,
   "metadata": {},
   "outputs": [
    {
     "name": "stderr",
     "output_type": "stream",
     "text": [
      "Limpar stopWords: 8199it [00:13, 604.75it/s]\n"
     ]
    },
    {
     "data": {
      "text/html": [
       "<div>\n",
       "<style scoped>\n",
       "    .dataframe tbody tr th:only-of-type {\n",
       "        vertical-align: middle;\n",
       "    }\n",
       "\n",
       "    .dataframe tbody tr th {\n",
       "        vertical-align: top;\n",
       "    }\n",
       "\n",
       "    .dataframe thead th {\n",
       "        text-align: right;\n",
       "    }\n",
       "</style>\n",
       "<table border=\"1\" class=\"dataframe\">\n",
       "  <thead>\n",
       "    <tr style=\"text-align: right;\">\n",
       "      <th></th>\n",
       "      <th>Text</th>\n",
       "      <th>Classificacao</th>\n",
       "    </tr>\n",
       "  </thead>\n",
       "  <tbody>\n",
       "    <tr>\n",
       "      <th>0</th>\n",
       "      <td>trio suspeito roubo carga preso santa luzia ( ...</td>\n",
       "      <td>Positivo</td>\n",
       "    </tr>\n",
       "    <tr>\n",
       "      <th>1</th>\n",
       "      <td>trio preso suspeito roubo trafico abuso sexual...</td>\n",
       "      <td>Positivo</td>\n",
       "    </tr>\n",
       "    <tr>\n",
       "      <th>2</th>\n",
       "      <td>trio preso suspeito roubo trafico abuso sexual...</td>\n",
       "      <td>Positivo</td>\n",
       "    </tr>\n",
       "    <tr>\n",
       "      <th>3</th>\n",
       "      <td>trio preso suspeito roubo trafico abuso sexual...</td>\n",
       "      <td>Positivo</td>\n",
       "    </tr>\n",
       "    <tr>\n",
       "      <th>4</th>\n",
       "      <td>trio preso suspeito roubo trafico abuso sexual...</td>\n",
       "      <td>Positivo</td>\n",
       "    </tr>\n",
       "  </tbody>\n",
       "</table>\n",
       "</div>"
      ],
      "text/plain": [
       "                                                Text Classificacao\n",
       "0  trio suspeito roubo carga preso santa luzia ( ...      Positivo\n",
       "1  trio preso suspeito roubo trafico abuso sexual...      Positivo\n",
       "2  trio preso suspeito roubo trafico abuso sexual...      Positivo\n",
       "3  trio preso suspeito roubo trafico abuso sexual...      Positivo\n",
       "4  trio preso suspeito roubo trafico abuso sexual...      Positivo"
      ]
     },
     "execution_count": 31,
     "metadata": {},
     "output_type": "execute_result"
    }
   ],
   "source": [
    "twetter_df_clean =  limparTexto(twetter_df)\n",
    "twetter_df_clean =  twetter_df_clean.rename(columns= {0: 'Text', 1: \"Classificacao\"})\n",
    "twetter_df_clean.head()"
   ]
  },
  {
   "cell_type": "markdown",
   "metadata": {},
   "source": [
    "# TF"
   ]
  },
  {
   "cell_type": "code",
   "execution_count": 32,
   "metadata": {},
   "outputs": [],
   "source": [
    "vectorizer = CountVectorizer()\n",
    "tf = vectorizer.fit_transform(twetter_df_clean.Text)\n",
    "tf = tf.toarray()"
   ]
  },
  {
   "cell_type": "markdown",
   "metadata": {},
   "source": [
    "# TF-IDF"
   ]
  },
  {
   "cell_type": "code",
   "execution_count": 33,
   "metadata": {},
   "outputs": [],
   "source": [
    "vectorizer = TfidfVectorizer()\n",
    "tf_idf = vectorizer.fit_transform(twetter_df_clean.Text)\n",
    "tf_idf = tf_idf.toarray()"
   ]
  },
  {
   "cell_type": "code",
   "execution_count": 34,
   "metadata": {},
   "outputs": [],
   "source": [
    "bag_of_word = {}\n",
    "bag_of_word['tf'] = tf\n",
    "bag_of_word['tf-idf'] = tf_idf"
   ]
  },
  {
   "cell_type": "code",
   "execution_count": 35,
   "metadata": {},
   "outputs": [],
   "source": [
    "def metricas(acuracia, precision,recal, micro_f1, macro_f1):\n",
    "    print(f'Acurácia: %.2f' % (acuracia*100))\n",
    "    print(f'precision: %.2f' % (precision*100))\n",
    "    print(f'recal: %.2f' % (recal*100))\n",
    "    print(f'micro-f1: %.2f' % (micro_f1*100))\n",
    "    print(f'macro-f1: %.2f' % (macro_f1*100))"
   ]
  },
  {
   "cell_type": "markdown",
   "metadata": {},
   "source": [
    "# Machine Learning imports"
   ]
  },
  {
   "cell_type": "code",
   "execution_count": 36,
   "metadata": {},
   "outputs": [],
   "source": [
    "# Naive Bayes\n",
    "from sklearn.naive_bayes import GaussianNB\n",
    "from sklearn import model_selection as ms\n",
    "# Libs para metricas e avaliação\n",
    "import sklearn.metrics as metrics"
   ]
  },
  {
   "cell_type": "markdown",
   "metadata": {},
   "source": [
    "# Naive Bayes"
   ]
  },
  {
   "cell_type": "code",
   "execution_count": 37,
   "metadata": {},
   "outputs": [
    {
     "name": "stdout",
     "output_type": "stream",
     "text": [
      "----------> PONDERAÇÂO tf\n",
      "Acurácia: 92.40\n",
      "precision: 92.39\n",
      "recal: 92.40\n",
      "micro-f1: 92.40\n",
      "macro-f1: 91.96\n",
      "----------> PONDERAÇÂO tf-idf\n",
      "Acurácia: 91.77\n",
      "precision: 91.71\n",
      "recal: 91.77\n",
      "micro-f1: 91.77\n",
      "macro-f1: 91.42\n"
     ]
    }
   ],
   "source": [
    "df_result =  pd.DataFrame()\n",
    "df_result['Index'] = bag_of_word.keys()\n",
    "\n",
    "lista_acuracia = []\n",
    "lista_precisao = []\n",
    "lista_recal = []\n",
    "lista_mif1 = []\n",
    "lista_maf1 = []\n",
    "\n",
    "for key in bag_of_word:\n",
    "    \n",
    "    # Bag of word tf e tf-idf\n",
    "    bag = bag_of_word[key]\n",
    "    \n",
    "    target = twetter_df_clean.Classificacao\n",
    "    \n",
    "    # treino e teste\n",
    "    resource_train, resource_test, target_train, target_test = ms.train_test_split(bag,target,test_size=0.64, random_state=32)\n",
    "    naive_bayes =  GaussianNB()\n",
    "    naive_bayes.fit(resource_train, target_train)\n",
    "    \n",
    "    #predicão\n",
    "    pred =  naive_bayes.predict(resource_test)\n",
    "    \n",
    "    acuracia = metrics.accuracy_score(target_test, pred)\n",
    "    lista_acuracia.append(acuracia)\n",
    "    \n",
    "    precision = metrics.precision_score(target_test, pred, average='weighted')\n",
    "    lista_precisao.append(precision)\n",
    "    \n",
    "    recal = metrics.recall_score(target_test, pred, average='weighted')\n",
    "    lista_recal.append(recal)\n",
    "    \n",
    "    micro_f1 = metrics.f1_score(target_test, pred, average='micro')\n",
    "    lista_mif1.append(micro_f1)\n",
    "    \n",
    "    macro_f1 = metrics.f1_score(target_test, pred, average='macro')\n",
    "    lista_maf1.append(macro_f1)   \n",
    "    \n",
    "    print(f\"----------> PONDERAÇÂO {key}\")\n",
    "    metricas(acuracia, precision, recal, micro_f1, macro_f1)\n",
    "\n",
    "df_result['Acuracia'] = lista_acuracia\n",
    "df_result['Precisao'] = lista_precisao\n",
    "df_result['Recal'] = lista_recal\n",
    "df_result['Micro-f1'] = lista_mif1\n",
    "df_result['Macro-f1'] = lista_maf1\n",
    "    \n",
    "df_result = df_result.set_index('Index')"
   ]
  },
  {
   "cell_type": "markdown",
   "metadata": {},
   "source": [
    "# Utilizando o Matplotlib para visualização das métricas"
   ]
  },
  {
   "cell_type": "code",
   "execution_count": 39,
   "metadata": {
    "tags": []
   },
   "outputs": [
    {
     "ename": "AttributeError",
     "evalue": "'AxesSubplot' object has no attribute 'bar_label'",
     "output_type": "error",
     "traceback": [
      "\u001b[1;31m---------------------------------------------------------------------------\u001b[0m",
      "\u001b[1;31mAttributeError\u001b[0m                            Traceback (most recent call last)",
      "\u001b[1;32m<ipython-input-39-0698ba029164>\u001b[0m in \u001b[0;36m<module>\u001b[1;34m()\u001b[0m\n\u001b[0;32m     16\u001b[0m \u001b[0max\u001b[0m\u001b[1;33m.\u001b[0m\u001b[0mset_xticks\u001b[0m\u001b[1;33m(\u001b[0m\u001b[0mlabels_numbers\u001b[0m\u001b[1;33m,\u001b[0m \u001b[0mlist\u001b[0m\u001b[1;33m(\u001b[0m\u001b[0mdf_result\u001b[0m\u001b[1;33m.\u001b[0m\u001b[0mcolumns\u001b[0m\u001b[1;33m)\u001b[0m\u001b[1;33m)\u001b[0m\u001b[1;33m\u001b[0m\u001b[0m\n\u001b[0;32m     17\u001b[0m \u001b[0max\u001b[0m\u001b[1;33m.\u001b[0m\u001b[0mlegend\u001b[0m\u001b[1;33m(\u001b[0m\u001b[1;33m)\u001b[0m\u001b[1;33m\u001b[0m\u001b[0m\n\u001b[1;32m---> 18\u001b[1;33m \u001b[0max\u001b[0m\u001b[1;33m.\u001b[0m\u001b[0mbar_label\u001b[0m\u001b[1;33m(\u001b[0m\u001b[0mtf_group\u001b[0m\u001b[1;33m,\u001b[0m \u001b[0mpadding\u001b[0m\u001b[1;33m=\u001b[0m\u001b[1;36m3\u001b[0m\u001b[1;33m)\u001b[0m\u001b[1;33m\u001b[0m\u001b[0m\n\u001b[0m\u001b[0;32m     19\u001b[0m \u001b[0max\u001b[0m\u001b[1;33m.\u001b[0m\u001b[0mbar_label\u001b[0m\u001b[1;33m(\u001b[0m\u001b[0mtf_idf_group\u001b[0m\u001b[1;33m,\u001b[0m \u001b[0mpadding\u001b[0m\u001b[1;33m=\u001b[0m\u001b[1;36m3\u001b[0m\u001b[1;33m)\u001b[0m\u001b[1;33m\u001b[0m\u001b[0m\n\u001b[0;32m     20\u001b[0m \u001b[0mfig\u001b[0m\u001b[1;33m.\u001b[0m\u001b[0mtight_layout\u001b[0m\u001b[1;33m(\u001b[0m\u001b[1;33m)\u001b[0m\u001b[1;33m\u001b[0m\u001b[0m\n",
      "\u001b[1;31mAttributeError\u001b[0m: 'AxesSubplot' object has no attribute 'bar_label'"
     ]
    },
    {
     "data": {
      "image/png": "[encoded data removed]",
      "text/plain": [
       "<Figure size 432x288 with 1 Axes>"
      ]
     },
     "metadata": {},
     "output_type": "display_data"
    }
   ],
   "source": [
    "labels_numbers = np.arange(len(df_result.columns))  # the label locations\n",
    "width_bar = 0.35  # the width of the bars\n",
    "\n",
    "# Arredondar os valores das métricas para melhorar a visualização no plot.\n",
    "tf_metrics_list = list(round(df_result.iloc[0] * 100, 2))\n",
    "tf_idf_metrics_list = list(round(df_result.iloc[1] * 100, 2))\n",
    "\n",
    "\n",
    "fig, ax = plt.subplots()\n",
    "tf_group = ax.bar(labels_numbers - width_bar/2, tf_metrics_list, width_bar, label='TF')\n",
    "tf_idf_group = ax.bar(labels_numbers + width_bar/2, tf_idf_metrics_list, width_bar, label='TF-IDF')\n",
    "\n",
    "# Add some text for labels, title and custom x-axis tick labels, etc.\n",
    "ax.set_ylabel('Pontuação')\n",
    "ax.set_title('Metricas por tipos de bag of word')\n",
    "ax.set_xticks(labels_numbers, list(df_result.columns))\n",
    "ax.legend()\n",
    "ax.bar_label(tf_group, padding=3)\n",
    "ax.bar_label(tf_idf_group, padding=3)\n",
    "fig.tight_layout()\n",
    "fig.set_size_inches(10, 6)\n",
    "\n",
    "plt.show()"
   ]
  }
 ],
 "metadata": {
  "kernelspec": {
   "display_name": "Python 3",
   "language": "python",
   "name": "python3"
  },
  "language_info": {
   "codemirror_mode": {
    "name": "ipython",
    "version": 3
   },
   "file_extension": ".py",
   "mimetype": "text/x-python",
   "name": "python",
   "nbconvert_exporter": "python",
   "pygments_lexer": "ipython3",
   "version": "3.6.5"
  },
  "toc-autonumbering": false
 },
 "nbformat": 4,
 "nbformat_minor": 5
}
