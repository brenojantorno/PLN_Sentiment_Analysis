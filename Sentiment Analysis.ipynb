{
 "cells": [
  {
   "cell_type": "code",
   "execution_count": 1,
   "id": "623173c3",
   "metadata": {
    "tags": []
   },
   "outputs": [],
   "source": [
    "# Lib para manipulação de dados\n",
    "import numpy as np\n",
    "import pandas as pd\n",
    "\n",
    "# IO bibliotecas\n",
    "import os\n",
    "import csv\n",
    "\n",
    "# Visualização de progressão para laços\n",
    "import seaborn as sns\n",
    "import matplotlib.pyplot as plt\n",
    "\n",
    "# regex\n",
    "import re\n",
    "\n",
    "# NLTK - Biblioteca com ferramentas para processamento de linguagem natural.\n",
    "# Util para todos os tipos de tarefas de tokenização, stemming, tagging e parsing\n",
    "import nltk\n",
    "from nltk.tokenize import word_tokenize\n",
    "from nltk.corpus import stopwords\n",
    "from nltk.stem import PorterStemmer\n",
    "\n",
    "# Remoção de acentos gráficos\n",
    "import unidecode\n",
    "\n",
    "# Pipeline\n",
    "from sklearn.pipeline import Pipeline\n",
    "\n",
    "# Libs para metricas e avaliação\n",
    "import sklearn.metrics as metrics\n",
    "# tf-idf\n",
    "from sklearn.feature_extraction.text import TfidfVectorizer\n",
    "\n",
    "# Naive Bayes\n",
    "from sklearn.naive_bayes import MultinomialNB\n",
    "from sklearn import model_selection as ms\n",
    "\n",
    "# WordCloud\n",
    "from wordcloud import WordCloud\n",
    "\n",
    "from random import randint"
   ]
  },
  {
   "cell_type": "code",
   "execution_count": 2,
   "id": "b6698c29",
   "metadata": {},
   "outputs": [
    {
     "data": {
      "text/html": [
       "<div>\n",
       "<style scoped>\n",
       "    .dataframe tbody tr th:only-of-type {\n",
       "        vertical-align: middle;\n",
       "    }\n",
       "\n",
       "    .dataframe tbody tr th {\n",
       "        vertical-align: top;\n",
       "    }\n",
       "\n",
       "    .dataframe thead th {\n",
       "        text-align: right;\n",
       "    }\n",
       "</style>\n",
       "<table border=\"1\" class=\"dataframe\">\n",
       "  <thead>\n",
       "    <tr style=\"text-align: right;\">\n",
       "      <th></th>\n",
       "      <th>Unnamed: 0</th>\n",
       "      <th>Text</th>\n",
       "      <th>Classificacao</th>\n",
       "    </tr>\n",
       "  </thead>\n",
       "  <tbody>\n",
       "    <tr>\n",
       "      <th>0</th>\n",
       "      <td>0</td>\n",
       "      <td>���⛪ @ Catedral de Santo Antônio - Governador ...</td>\n",
       "      <td>Neutro</td>\n",
       "    </tr>\n",
       "    <tr>\n",
       "      <th>1</th>\n",
       "      <td>1</td>\n",
       "      <td>� @ Governador Valadares, Minas Gerais https:/...</td>\n",
       "      <td>Neutro</td>\n",
       "    </tr>\n",
       "    <tr>\n",
       "      <th>2</th>\n",
       "      <td>2</td>\n",
       "      <td>�� @ Governador Valadares, Minas Gerais https:...</td>\n",
       "      <td>Neutro</td>\n",
       "    </tr>\n",
       "    <tr>\n",
       "      <th>3</th>\n",
       "      <td>3</td>\n",
       "      <td>��� https://t.co/BnDsO34qK0</td>\n",
       "      <td>Neutro</td>\n",
       "    </tr>\n",
       "    <tr>\n",
       "      <th>4</th>\n",
       "      <td>4</td>\n",
       "      <td>��� PSOL vai questionar aumento de vereadores ...</td>\n",
       "      <td>Negativo</td>\n",
       "    </tr>\n",
       "  </tbody>\n",
       "</table>\n",
       "</div>"
      ],
      "text/plain": [
       "   Unnamed: 0                                               Text Classificacao\n",
       "0           0  ���⛪ @ Catedral de Santo Antônio - Governador ...        Neutro\n",
       "1           1  � @ Governador Valadares, Minas Gerais https:/...        Neutro\n",
       "2           2  �� @ Governador Valadares, Minas Gerais https:...        Neutro\n",
       "3           3                        ��� https://t.co/BnDsO34qK0        Neutro\n",
       "4           4  ��� PSOL vai questionar aumento de vereadores ...      Negativo"
      ]
     },
     "execution_count": 2,
     "metadata": {},
     "output_type": "execute_result"
    }
   ],
   "source": [
    "# Carregar os twetters sobre o estado de minas gerais\n",
    "twetter_df = pd.read_csv(\"./archive/tw_pt.csv\")\n",
    "twetter_df.head()\n"
   ]
  },
  {
   "cell_type": "markdown",
   "id": "dca66583",
   "metadata": {
    "tags": []
   },
   "source": [
    "# StopWords Remoção\n",
    "<p> A remoção dos stopWords serve para que o algoritmo de machine learning foque nas frases principais e não nas mais comuns usadas pela lingua <p/>"
   ]
  },
  {
   "cell_type": "code",
   "execution_count": 3,
   "id": "1fd5dcf0",
   "metadata": {
    "tags": []
   },
   "outputs": [
    {
     "name": "stderr",
     "output_type": "stream",
     "text": [
      "[nltk_data] Downloading package stopwords to\n",
      "[nltk_data]     C:\\Users\\Breno\\AppData\\Roaming\\nltk_data...\n",
      "[nltk_data]   Package stopwords is already up-to-date!\n",
      "[nltk_data] Downloading package punkt to\n",
      "[nltk_data]     C:\\Users\\Breno\\AppData\\Roaming\\nltk_data...\n",
      "[nltk_data]   Package punkt is already up-to-date!\n"
     ]
    }
   ],
   "source": [
    "# Download das extensões necessárias\n",
    "nltk.download(\"stopwords\")\n",
    "nltk.download('punkt')\n",
    "\n",
    "# Configurando para a lingua portuguesa\n",
    "stop_words = set(stopwords.words('portuguese'))"
   ]
  },
  {
   "cell_type": "code",
   "execution_count": 4,
   "id": "e156e5d7",
   "metadata": {},
   "outputs": [],
   "source": [
    "def removerStopWords(texto):\n",
    "    #Tokenização\n",
    "    word_tokens =  word_tokenize(texto)\n",
    "    ps = PorterStemmer()\n",
    "    steamming_words = []\n",
    "    \n",
    "    for word in word_tokens:\n",
    "        steamming_words.append(ps.stem(word))\n",
    "    \n",
    "    #Limpa os tokens removendo as stopwords da lingua portuguesa e converte para string.\n",
    "    sentencas_filtradas =  ' '.join([p for p in steamming_words if not p.lower() in stop_words])         \n",
    "    \n",
    "    # Função strip remove os espaços em branco no começo e no fim da string.\n",
    "    return sentencas_filtradas.strip()    "
   ]
  },
  {
   "cell_type": "code",
   "execution_count": 5,
   "id": "8039fa5b",
   "metadata": {},
   "outputs": [],
   "source": [
    "def removerCaracteresEspeciais(Text):\n",
    "    Text = unidecode.unidecode(Text)\n",
    "    Text = re.sub(r'http\\S+|[0-9]|\\.|\\,|\\-|\\_|\\:|\\;|\\@|\\#|\\!|\\>|\\<|\\&|\\®', '', Text)\n",
    "    Text = removerStopWords(Text)\n",
    "    Text = Text.lower().strip()\n",
    "    \n",
    "    return Text"
   ]
  },
  {
   "cell_type": "code",
   "execution_count": 6,
   "id": "0de1a28c",
   "metadata": {},
   "outputs": [],
   "source": [
    "def limparTexto(dataFrame):\n",
    "    result =  pd.DataFrame()\n",
    "    #Percorrer data linha do data frame\n",
    "    for row in dataFrame.itertuples(index=True, name=\"Pandas\"):\n",
    "        Text = row.Text\n",
    "        Classificacao = row.Classificacao\n",
    "        \n",
    "        #Realiza a limpeza de caracteres indesejados no texto.\n",
    "        Text =  removerCaracteresEspeciais(Text)\n",
    "    \n",
    "        # Cria um novo dataframe e o concatena ao existente. \n",
    "        linha = pd.Series([Text, Classificacao])        \n",
    "        linha = pd.DataFrame([linha])        \n",
    "        result = pd.concat([linha, result], ignore_index=True)       \n",
    "    \n",
    "    return result"
   ]
  },
  {
   "cell_type": "code",
   "execution_count": 7,
   "id": "27785150",
   "metadata": {},
   "outputs": [
    {
     "name": "stdout",
     "output_type": "stream",
     "text": [
      "                                                     Text Classificacao\n",
      "count                                                3585          3585\n",
      "unique                                               3585             3\n",
      "top     trio suspeito roubo carga preso santa luzia ( ...        Neutro\n",
      "freq                                                    1          1523\n"
     ]
    }
   ],
   "source": [
    "twetter_df_clean =  limparTexto(twetter_df).rename(columns= {0: 'Text', 1: \"Classificacao\"})\n",
    "\n",
    "#Remoção dos dados duplicados\n",
    "twetter_df_clean.drop_duplicates(subset='Text',inplace=True)\n",
    "print(twetter_df_clean.describe())"
   ]
  },
  {
   "cell_type": "code",
   "execution_count": 8,
   "id": "b76ab208",
   "metadata": {},
   "outputs": [],
   "source": [
    "def calcularMetricas(y_test, predict):\n",
    "    '''\n",
    "    Calcular as métricas de acuracia, precisão, recal, micro e macro f1\n",
    "    '''\n",
    "    acuracia = metrics.accuracy_score(y_test, predict)\n",
    "    precision = metrics.precision_score(y_test, predict, average='weighted')\n",
    "    recal = metrics.recall_score(y_test, predict, average='weighted')\n",
    "    micro_f1 = metrics.f1_score(y_test, predict, average='micro')\n",
    "    macro_f1 = metrics.f1_score(y_test, predict, average='macro')\n",
    "    \n",
    "    print(10*\"-\",\" PONDERAÇÂO \", 10*\"-\",)\n",
    "    metricas(acuracia, precision, recal, micro_f1, macro_f1)"
   ]
  },
  {
   "cell_type": "code",
   "execution_count": 9,
   "id": "e8f4914a",
   "metadata": {},
   "outputs": [],
   "source": [
    "\n",
    "def metricas(acuracia, precision, recal, micro_f1, macro_f1):\n",
    "    '''\n",
    "    Printar as métricas\n",
    "    '''\n",
    "    print(f'Acurácia: %.2f' % (acuracia*100))\n",
    "    print(f'precision: %.2f' % (precision*100))\n",
    "    print(f'recal: %.2f' % (recal*100))\n",
    "    print(f'micro-f1: %.2f' % (micro_f1*100))\n",
    "    print(f'macro-f1: %.2f' % (macro_f1*100))\n"
   ]
  },
  {
   "cell_type": "markdown",
   "id": "17e5ef74",
   "metadata": {
    "tags": []
   },
   "source": [
    "# Naive Bayes"
   ]
  },
  {
   "cell_type": "code",
   "execution_count": 10,
   "id": "90304579",
   "metadata": {},
   "outputs": [
    {
     "name": "stdout",
     "output_type": "stream",
     "text": [
      "----------  PONDERAÇÂO  ----------\n",
      "Acurácia: 87.26\n",
      "precision: 87.57\n",
      "recal: 87.26\n",
      "micro-f1: 87.26\n",
      "macro-f1: 85.15\n"
     ]
    }
   ],
   "source": [
    "x = twetter_df_clean['Text']\n",
    "y = twetter_df_clean['Classificacao']\n",
    "\n",
    "# treino e teste\n",
    "X_train, X_test, y_train, y_test = ms.train_test_split(x, y, test_size=0.60, random_state=48)\n",
    "\n",
    "# Pipeline para realizar o tf-idf e treinar o modelo\n",
    "pipe =  Pipeline([('vectorizer',TfidfVectorizer(analyzer='word')),('naive', MultinomialNB())])\n",
    "\n",
    "pipe.fit(X_train, y_train)\n",
    "\n",
    "# predicão\n",
    "predicts = pipe.predict(X_test)\n",
    "\n",
    "# Predição probabilidade\n",
    "predicts_proba = pipe.predict_proba(X_test)\n",
    "\n",
    "# Calcular as métricas\n",
    "calcularMetricas(y_test, predicts)"
   ]
  },
  {
   "cell_type": "markdown",
   "id": "ad226c89-bdbc-40bf-806c-151524c6dcc1",
   "metadata": {},
   "source": [
    "# Matriz de Confusão"
   ]
  },
  {
   "cell_type": "code",
   "execution_count": 11,
   "id": "b53a0c57-439a-4e80-a70a-a1400dc093b1",
   "metadata": {},
   "outputs": [
    {
     "data": {
      "image/png": "[encoded data removed]",
      "text/plain": [
       "<Figure size 432x288 with 2 Axes>"
      ]
     },
     "metadata": {
      "needs_background": "light"
     },
     "output_type": "display_data"
    }
   ],
   "source": [
    "cm = metrics.confusion_matrix(y_test, predicts)\n",
    "cm_display = metrics.ConfusionMatrixDisplay(cm, display_labels=y_test.unique()).plot(cmap='Blues')"
   ]
  },
  {
   "cell_type": "code",
   "execution_count": 12,
   "id": "0e490586-ac2c-4334-8041-0822ca9ff735",
   "metadata": {},
   "outputs": [],
   "source": [
    "def plot_roc_curve(tpr, fpr, scatter = True, ax = None,):\n",
    "    '''\n",
    "    Plots the ROC Curve by using the list of coordinates (tpr and fpr).\n",
    "    \n",
    "    Args:\n",
    "        tpr: The list of TPRs representing each coordinate.\n",
    "        fpr: The list of FPRs representing each coordinate.\n",
    "        scatter: When True, the points used on the calculation will be plotted with the line (default = True).\n",
    "    '''\n",
    "    if ax == None:\n",
    "        plt.figure(figsize = (5, 5))\n",
    "        ax = plt.axes()\n",
    "    \n",
    "    if scatter:\n",
    "        sns.scatterplot(x = fpr, y = tpr, ax = ax)\n",
    "        \n",
    "    sns.lineplot(x = fpr, y = tpr, ax = ax, legend=\"brief\")\n",
    "    sns.lineplot(x = [0, 1], y = [0, 1], color = 'green', ax = ax)\n",
    "    plt.xlim(-0.05, 1.05)\n",
    "    plt.ylim(-0.05, 1.05)\n",
    "    plt.xlabel(\"False Positive Rate\")\n",
    "    plt.ylabel(\"True Positive Rate\")"
   ]
  },
  {
   "cell_type": "code",
   "execution_count": 13,
   "id": "2490c003-e512-4df1-95d1-d3b8f5532797",
   "metadata": {},
   "outputs": [
    {
     "data": {
      "image/png": "[encoded data removed]",
      "text/plain": [
       "<Figure size 864x576 with 3 Axes>"
      ]
     },
     "metadata": {
      "needs_background": "light"
     },
     "output_type": "display_data"
    }
   ],
   "source": [
    "# Plots the Probability Distributions and the ROC Curves One vs Rest\n",
    "# Utilizando a metodologia OvR One vs Rest ou Um versus o resto\n",
    "\n",
    "plt.figure(figsize=(12, 8))\n",
    "classes = twetter_df_clean.Classificacao.unique()\n",
    "roc_auc_ovr = {}\n",
    "\n",
    "# Calcula a curva ROC para cada tipo de calculo da bag of words\n",
    "\n",
    "for i in range(len(classes)):\n",
    "    # Recupera a classe\n",
    "    classe = classes[i]\n",
    "\n",
    "    # Verificar\n",
    "    list_class = [1 if y == classe else 0 for y in y_test]\n",
    "    list_prob = predicts_proba[:, 0]\n",
    "    data = {\"class\": list_class, \"prob\": list_prob}\n",
    "    df_aux = pd.DataFrame(data)\n",
    "\n",
    "    # Calculates the ROC Coordinates and plots the ROC Curves\n",
    "    ax_bottom = plt.subplot(2, 3, i+4)\n",
    "    # tpr, fpr = get_all_roc_coordinates(df_aux['class'], df_aux['prob'])\n",
    "\n",
    "    fpr, tpr, thresholds = metrics.roc_curve(list_class, list_prob)\n",
    "    plot_roc_curve(tpr, fpr, scatter=False, ax=ax_bottom)\n",
    "    ax_bottom.set_title(f\"ROC Curve OvR - {classe}\")\n",
    "\n",
    "    # Calculates the ROC AUC OvR\n",
    "    roc_auc_ovr[i] = metrics.roc_auc_score(df_aux['class'], df_aux['prob'])\n",
    "\n",
    "\n",
    "plt.tight_layout()\n"
   ]
  },
  {
   "cell_type": "code",
   "execution_count": 14,
   "id": "d7d35fe2",
   "metadata": {},
   "outputs": [],
   "source": [
    "# PREDICST PROB ->  NEGATIVO, NEUTRO, POSITIVO,\n",
    "prob_negativo = predicts_proba[:,0]\n",
    "prob_neutro = predicts_proba[:,1]\n",
    "prob_positivo = predicts_proba[:,2]\n",
    "\n",
    "\n",
    "df_words_prob =  pd.DataFrame({\n",
    "            'Texto': X_test,\n",
    "            'Prob_Negativo': prob_negativo,\n",
    "            'Prob_Neutro': prob_neutro,\n",
    "            'Prob_Positivo': prob_positivo\n",
    "            })\n"
   ]
  },
  {
   "cell_type": "code",
   "execution_count": 15,
   "id": "13f67079",
   "metadata": {},
   "outputs": [],
   "source": [
    "palavras_proibidas = ['trafico','droga','roubo','furto','arma','preso', 'traficant','presa','presos']"
   ]
  },
  {
   "cell_type": "code",
   "execution_count": 21,
   "id": "c2bd44d3",
   "metadata": {},
   "outputs": [],
   "source": [
    "def escolherPalavra(texto_splited, classificacao):\n",
    "    palavraPermitida = False\n",
    "    palavra = ''\n",
    "    while(not palavraPermitida):\n",
    "        random_index = randint(0,  len(texto_splited) - 1)\n",
    "        palavra = texto_splited[random_index]\n",
    "        if(palavra not in palavras_proibidas):\n",
    "            palavraPermitida = True\n",
    "\n",
    "    return palavra\n"
   ]
  },
  {
   "cell_type": "code",
   "execution_count": 22,
   "id": "e849efc3",
   "metadata": {},
   "outputs": [
    {
     "ename": "KeyboardInterrupt",
     "evalue": "",
     "output_type": "error",
     "traceback": [
      "\u001b[1;31m---------------------------------------------------------------------------\u001b[0m",
      "\u001b[1;31mKeyboardInterrupt\u001b[0m                         Traceback (most recent call last)",
      "\u001b[1;32mc:\\Users\\Breno\\Desktop\\PLN\\Sentiment Analysis.ipynb Cell 20'\u001b[0m in \u001b[0;36m<cell line: 3>\u001b[1;34m()\u001b[0m\n\u001b[0;32m      <a href='vscode-notebook-cell:/c%3A/Users/Breno/Desktop/PLN/Sentiment%20Analysis.ipynb#ch0000017?line=8'>9</a>\u001b[0m word_splited \u001b[39m=\u001b[39m texto\u001b[39m.\u001b[39msplit()\n\u001b[0;32m     <a href='vscode-notebook-cell:/c%3A/Users/Breno/Desktop/PLN/Sentiment%20Analysis.ipynb#ch0000017?line=9'>10</a>\u001b[0m \u001b[39mif\u001b[39;00m \u001b[39mlen\u001b[39m(word_splited) \u001b[39m>\u001b[39m \u001b[39m0\u001b[39m:\n\u001b[1;32m---> <a href='vscode-notebook-cell:/c%3A/Users/Breno/Desktop/PLN/Sentiment%20Analysis.ipynb#ch0000017?line=10'>11</a>\u001b[0m     termo_escolhido \u001b[39m=\u001b[39m escolherPalavra(word_splited, nomeClasse)\n\u001b[0;32m     <a href='vscode-notebook-cell:/c%3A/Users/Breno/Desktop/PLN/Sentiment%20Analysis.ipynb#ch0000017?line=11'>12</a>\u001b[0m     palavras\u001b[39m.\u001b[39mappend(termo_escolhido)\n\u001b[0;32m     <a href='vscode-notebook-cell:/c%3A/Users/Breno/Desktop/PLN/Sentiment%20Analysis.ipynb#ch0000017?line=12'>13</a>\u001b[0m     palavras_usadas\u001b[39m.\u001b[39mappend(termo_escolhido)\n",
      "\u001b[1;32mc:\\Users\\Breno\\Desktop\\PLN\\Sentiment Analysis.ipynb Cell 19'\u001b[0m in \u001b[0;36mescolherPalavra\u001b[1;34m(texto_splited, classificacao)\u001b[0m\n\u001b[0;32m      <a href='vscode-notebook-cell:/c%3A/Users/Breno/Desktop/PLN/Sentiment%20Analysis.ipynb#ch0000029?line=1'>2</a>\u001b[0m palavraPermitida \u001b[39m=\u001b[39m \u001b[39mFalse\u001b[39;00m\n\u001b[0;32m      <a href='vscode-notebook-cell:/c%3A/Users/Breno/Desktop/PLN/Sentiment%20Analysis.ipynb#ch0000029?line=2'>3</a>\u001b[0m palavra \u001b[39m=\u001b[39m \u001b[39m'\u001b[39m\u001b[39m'\u001b[39m\n\u001b[1;32m----> <a href='vscode-notebook-cell:/c%3A/Users/Breno/Desktop/PLN/Sentiment%20Analysis.ipynb#ch0000029?line=3'>4</a>\u001b[0m \u001b[39mwhile\u001b[39;00m(\u001b[39mnot\u001b[39;00m palavraPermitida):\n\u001b[0;32m      <a href='vscode-notebook-cell:/c%3A/Users/Breno/Desktop/PLN/Sentiment%20Analysis.ipynb#ch0000029?line=4'>5</a>\u001b[0m     random_index \u001b[39m=\u001b[39m randint(\u001b[39m0\u001b[39m,  \u001b[39mlen\u001b[39m(texto_splited) \u001b[39m-\u001b[39m \u001b[39m1\u001b[39m)\n\u001b[0;32m      <a href='vscode-notebook-cell:/c%3A/Users/Breno/Desktop/PLN/Sentiment%20Analysis.ipynb#ch0000029?line=5'>6</a>\u001b[0m     palavra \u001b[39m=\u001b[39m texto_splited[random_index]\n",
      "\u001b[1;31mKeyboardInterrupt\u001b[0m: "
     ]
    }
   ],
   "source": [
    "# CRIAR UM LAÇO PARA RECUPERAR ESSAS INFORMAÇÕES E MONTAR O WORD CLOUD\n",
    "for nomeClasse in classes:\n",
    "    palavras = []\n",
    "    df_words = df_words_prob.sort_values(\n",
    "        f'Prob_{nomeClasse}', ascending=False).iloc[0:130]\n",
    "\n",
    "    for texto in df_words.Texto:\n",
    "        word_splited = texto.split()\n",
    "        if len(word_splited) > 0:\n",
    "            termo_escolhido = escolherPalavra(word_splited, nomeClasse)\n",
    "            palavras.append(termo_escolhido)\n",
    "            palavras_usadas.append(termo_escolhido)\n",
    "            \n",
    "\n",
    "    plt.figure(figsize = (10, 10))\n",
    "    word_cloud =  WordCloud(collocations=False, background_color='white').generate(\" \".join(palavras))\n",
    "    plt.imshow(word_cloud, interpolation='bilinear')\n",
    "    plt.axis('off')\n",
    "    \n",
    "    print(f\"Nuvem de palavras {nomeClasse}\")\n",
    "    plt.show()"
   ]
  }
 ],
 "metadata": {
  "kernelspec": {
   "display_name": "Python 3 (ipykernel)",
   "language": "python",
   "name": "python3"
  },
  "language_info": {
   "codemirror_mode": {
    "name": "ipython",
    "version": 3
   },
   "file_extension": ".py",
   "mimetype": "text/x-python",
   "name": "python",
   "nbconvert_exporter": "python",
   "pygments_lexer": "ipython3",
   "version": "3.10.4"
  },
  "toc-autonumbering": false
 },
 "nbformat": 4,
 "nbformat_minor": 5
}
