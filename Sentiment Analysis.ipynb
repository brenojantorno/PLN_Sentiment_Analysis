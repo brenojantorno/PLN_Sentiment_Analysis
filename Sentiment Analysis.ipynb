{
 "cells": [
  {
   "cell_type": "code",
   "execution_count": 1,
   "id": "aab0e434-9ba7-4656-ab4a-ff661b992766",
   "metadata": {
    "tags": []
   },
   "outputs": [],
   "source": [
    "#Lib para manipulação de dados\n",
    "import numpy as np\n",
    "import pandas as pd\n",
    "import matplotlib.pyplot as plt\n",
    "\n",
    "# IO bibliotecas\n",
    "import os\n",
    "import csv\n",
    "\n",
    "# Visualização de progressão para laços\n",
    "from tqdm import tqdm"
   ]
  },
  {
   "cell_type": "code",
   "execution_count": 2,
   "id": "1597a4d8-64c8-4388-b0d2-3a3a5940607c",
   "metadata": {},
   "outputs": [
    {
     "data": {
      "text/html": [
       "<div>\n",
       "<style scoped>\n",
       "    .dataframe tbody tr th:only-of-type {\n",
       "        vertical-align: middle;\n",
       "    }\n",
       "\n",
       "    .dataframe tbody tr th {\n",
       "        vertical-align: top;\n",
       "    }\n",
       "\n",
       "    .dataframe thead th {\n",
       "        text-align: right;\n",
       "    }\n",
       "</style>\n",
       "<table border=\"1\" class=\"dataframe\">\n",
       "  <thead>\n",
       "    <tr style=\"text-align: right;\">\n",
       "      <th></th>\n",
       "      <th>Unnamed: 0</th>\n",
       "      <th>Text</th>\n",
       "      <th>Classificacao</th>\n",
       "    </tr>\n",
       "  </thead>\n",
       "  <tbody>\n",
       "    <tr>\n",
       "      <th>0</th>\n",
       "      <td>0</td>\n",
       "      <td>���⛪ @ Catedral de Santo Antônio - Governador ...</td>\n",
       "      <td>Neutro</td>\n",
       "    </tr>\n",
       "    <tr>\n",
       "      <th>1</th>\n",
       "      <td>1</td>\n",
       "      <td>� @ Governador Valadares, Minas Gerais https:/...</td>\n",
       "      <td>Neutro</td>\n",
       "    </tr>\n",
       "    <tr>\n",
       "      <th>2</th>\n",
       "      <td>2</td>\n",
       "      <td>�� @ Governador Valadares, Minas Gerais https:...</td>\n",
       "      <td>Neutro</td>\n",
       "    </tr>\n",
       "    <tr>\n",
       "      <th>3</th>\n",
       "      <td>3</td>\n",
       "      <td>��� https://t.co/BnDsO34qK0</td>\n",
       "      <td>Neutro</td>\n",
       "    </tr>\n",
       "    <tr>\n",
       "      <th>4</th>\n",
       "      <td>4</td>\n",
       "      <td>��� PSOL vai questionar aumento de vereadores ...</td>\n",
       "      <td>Negativo</td>\n",
       "    </tr>\n",
       "  </tbody>\n",
       "</table>\n",
       "</div>"
      ],
      "text/plain": [
       "   Unnamed: 0                                               Text Classificacao\n",
       "0           0  ���⛪ @ Catedral de Santo Antônio - Governador ...        Neutro\n",
       "1           1  � @ Governador Valadares, Minas Gerais https:/...        Neutro\n",
       "2           2  �� @ Governador Valadares, Minas Gerais https:...        Neutro\n",
       "3           3                        ��� https://t.co/BnDsO34qK0        Neutro\n",
       "4           4  ��� PSOL vai questionar aumento de vereadores ...      Negativo"
      ]
     },
     "execution_count": 2,
     "metadata": {},
     "output_type": "execute_result"
    }
   ],
   "source": [
    "# Twetters sobre o estado de minas gerais\n",
    "twetter_df =  pd.read_csv(\"./archive/tw_pt.csv\")\n",
    "twetter_df.head()"
   ]
  },
  {
   "cell_type": "markdown",
   "id": "6336832c-532f-4aee-9d2d-2ab5fb2210b6",
   "metadata": {
    "tags": []
   },
   "source": [
    "# StopWords Remoção\n",
    "<p> A remoção dos stopWords serve para que o algoritmo de machine learning foque nas frases principais e não nas mais comuns usadas pela lingua <p/>"
   ]
  },
  {
   "cell_type": "code",
   "execution_count": 3,
   "id": "8be8c138-43a2-4fca-b33a-1321ae39a7ac",
   "metadata": {},
   "outputs": [],
   "source": [
    "#NLTK — The Natural Language ToolKit is one of the best-known and most-used NLP libraries, \n",
    "#useful for all sorts of tasks from tokenization, stemming, tagging, parsing, and beyond\n",
    "import nltk\n",
    "# Remoção de acentos graficos\n",
    "import unidecode\n",
    "\n",
    "# regex\n",
    "import re\n",
    "\n",
    "from nltk.tokenize import word_tokenize\n",
    "from nltk.tokenize import sent_tokenize\n",
    "from nltk.corpus import stopwords\n",
    "from nltk.tokenize import word_tokenize\n",
    "\n",
    "# Machine learning\n",
    "from sklearn.feature_extraction.text import CountVectorizer  # tf\n",
    "from sklearn.feature_extraction.text import TfidfVectorizer # tf-idf"
   ]
  },
  {
   "cell_type": "code",
   "execution_count": 4,
   "id": "64710823-9550-4c2d-84cc-dc35dd22c123",
   "metadata": {
    "tags": []
   },
   "outputs": [
    {
     "name": "stderr",
     "output_type": "stream",
     "text": [
      "[nltk_data] Downloading package stopwords to\n",
      "[nltk_data]     C:\\Users\\Breno\\AppData\\Roaming\\nltk_data...\n",
      "[nltk_data]   Package stopwords is already up-to-date!\n",
      "[nltk_data] Downloading package punkt to\n",
      "[nltk_data]     C:\\Users\\Breno\\AppData\\Roaming\\nltk_data...\n",
      "[nltk_data]   Package punkt is already up-to-date!\n"
     ]
    },
    {
     "data": {
      "text/plain": [
       "True"
      ]
     },
     "execution_count": 4,
     "metadata": {},
     "output_type": "execute_result"
    }
   ],
   "source": [
    "nltk.download(\"stopwords\")\n",
    "nltk.download('punkt')"
   ]
  },
  {
   "cell_type": "code",
   "execution_count": 5,
   "id": "c7751194-daf5-4f8d-b987-8a6806c4f4ca",
   "metadata": {},
   "outputs": [],
   "source": [
    "# Configurando para a lingua portuguesa\n",
    "stop_words = set(stopwords.words('portuguese'))"
   ]
  },
  {
   "cell_type": "code",
   "execution_count": 6,
   "id": "84aa5076-c86f-4f28-8e88-c4d66e45d130",
   "metadata": {},
   "outputs": [],
   "source": [
    "def removerStopWords(texto):\n",
    "    #Tokenização\n",
    "    word_tokens =  word_tokenize(texto)\n",
    "    \n",
    "    #Limpa os tokens removendo as stopwords da lingua portuguesa e converte para string, sem o join retorna um array\n",
    "    sentencas_filtradas =  ' '.join([p for p in word_tokens if not p.lower() in stop_words])         \n",
    "    \n",
    "    return sentencas_filtradas.strip()    "
   ]
  },
  {
   "cell_type": "code",
   "execution_count": 7,
   "id": "235a251b-7345-44c9-bad9-c218519dc4f2",
   "metadata": {},
   "outputs": [],
   "source": [
    "def limparTexto(dataFrame):\n",
    "    result =  pd.DataFrame()\n",
    "    #Percorrer data linha do data frame\n",
    "    for row in tqdm(dataFrame.itertuples(index=True, name=\"Pandas\"), desc=\"Limpar stopWords\"):\n",
    "        Text = row.Text\n",
    "        Classificacao = row.Classificacao\n",
    "        \n",
    "        #Realiza a limpeza de caracteres indesejados no texto.\n",
    "        \n",
    "        Text = unidecode.unidecode(Text)\n",
    "        Text = re.sub(r'http\\S+', '', Text)\n",
    "        Text = removerStopWords(Text)\n",
    "        Text = Text.replace(\" . \",\" \")\n",
    "        Text = Text.replace(\" , \",\" \")\n",
    "        Text = Text.replace(\" - \",\" \")\n",
    "        Text = Text.replace(\" : \",\" \")\n",
    "        Text = Text.replace(\" @ \",\" \")\n",
    "        Text = Text.replace(\" # \",\" \")\n",
    "        Text = Text.lower().strip()\n",
    "    \n",
    "        # Cria um novo dataframe e o concatena ao existente. \n",
    "        linha = pd.Series([Text, Classificacao])        \n",
    "        linha = pd.DataFrame([linha])        \n",
    "        result = pd.concat([linha, result], ignore_index=True)       \n",
    "    \n",
    "    return result"
   ]
  },
  {
   "cell_type": "code",
   "execution_count": 8,
   "id": "706de46f-eb9c-4970-90e5-e0c0b7e101bf",
   "metadata": {},
   "outputs": [
    {
     "name": "stderr",
     "output_type": "stream",
     "text": [
      "Limpar stopWords: 8199it [00:04, 1871.26it/s]\n"
     ]
    },
    {
     "data": {
      "text/html": [
       "<div>\n",
       "<style scoped>\n",
       "    .dataframe tbody tr th:only-of-type {\n",
       "        vertical-align: middle;\n",
       "    }\n",
       "\n",
       "    .dataframe tbody tr th {\n",
       "        vertical-align: top;\n",
       "    }\n",
       "\n",
       "    .dataframe thead th {\n",
       "        text-align: right;\n",
       "    }\n",
       "</style>\n",
       "<table border=\"1\" class=\"dataframe\">\n",
       "  <thead>\n",
       "    <tr style=\"text-align: right;\">\n",
       "      <th></th>\n",
       "      <th>Text</th>\n",
       "      <th>Classificacao</th>\n",
       "    </tr>\n",
       "  </thead>\n",
       "  <tbody>\n",
       "    <tr>\n",
       "      <th>0</th>\n",
       "      <td>trio suspeito roubo cargas preso santa luzia (...</td>\n",
       "      <td>Positivo</td>\n",
       "    </tr>\n",
       "    <tr>\n",
       "      <th>1</th>\n",
       "      <td>trio preso suspeito roubo trafico abuso sexual...</td>\n",
       "      <td>Positivo</td>\n",
       "    </tr>\n",
       "    <tr>\n",
       "      <th>2</th>\n",
       "      <td>trio preso suspeito roubo trafico abuso sexual...</td>\n",
       "      <td>Positivo</td>\n",
       "    </tr>\n",
       "    <tr>\n",
       "      <th>3</th>\n",
       "      <td>trio preso suspeito roubo trafico abuso sexual...</td>\n",
       "      <td>Positivo</td>\n",
       "    </tr>\n",
       "    <tr>\n",
       "      <th>4</th>\n",
       "      <td>trio preso suspeito roubo trafico abuso sexual...</td>\n",
       "      <td>Positivo</td>\n",
       "    </tr>\n",
       "  </tbody>\n",
       "</table>\n",
       "</div>"
      ],
      "text/plain": [
       "                                                Text Classificacao\n",
       "0  trio suspeito roubo cargas preso santa luzia (...      Positivo\n",
       "1  trio preso suspeito roubo trafico abuso sexual...      Positivo\n",
       "2  trio preso suspeito roubo trafico abuso sexual...      Positivo\n",
       "3  trio preso suspeito roubo trafico abuso sexual...      Positivo\n",
       "4  trio preso suspeito roubo trafico abuso sexual...      Positivo"
      ]
     },
     "execution_count": 8,
     "metadata": {},
     "output_type": "execute_result"
    }
   ],
   "source": [
    "twetter_df_clean =  limparTexto(twetter_df)\n",
    "twetter_df_clean =  twetter_df_clean.rename(columns= {0: 'Text', 1: \"Classificacao\"})\n",
    "twetter_df_clean.head()"
   ]
  },
  {
   "cell_type": "markdown",
   "id": "e3039fb7-868b-497a-9dc4-1e82e9011c4a",
   "metadata": {},
   "source": [
    "# TF"
   ]
  },
  {
   "cell_type": "code",
   "execution_count": 9,
   "id": "044d2291-5412-4b93-937c-5da67fbe4c3f",
   "metadata": {},
   "outputs": [],
   "source": [
    "vectorizer = CountVectorizer()\n",
    "tf = vectorizer.fit_transform(twetter_df_clean.Text)\n",
    "tf = tf.toarray()"
   ]
  },
  {
   "cell_type": "markdown",
   "id": "edeb380e-3b79-4426-81b4-649c78cca03d",
   "metadata": {},
   "source": [
    "# TF-IDF"
   ]
  },
  {
   "cell_type": "code",
   "execution_count": 10,
   "id": "e2154cdd-49fd-4069-ad2e-ff57cad6092a",
   "metadata": {},
   "outputs": [],
   "source": [
    "vectorizer = TfidfVectorizer()\n",
    "tf_idf = vectorizer.fit_transform(twetter_df_clean.Text)\n",
    "tf_idf = tf_idf.toarray()"
   ]
  },
  {
   "cell_type": "code",
   "execution_count": 11,
   "id": "aee79ab2-ed9f-4795-8f4b-f4c60b45e3bd",
   "metadata": {},
   "outputs": [],
   "source": [
    "bag_of_word = {}\n",
    "bag_of_word['tf'] = tf\n",
    "bag_of_word['tf-idf'] = tf_idf"
   ]
  },
  {
   "cell_type": "code",
   "execution_count": 12,
   "id": "97c2af95-3151-486c-8a7f-2cb8f38693f0",
   "metadata": {},
   "outputs": [],
   "source": [
    "def metricas(acuracia, precision,recal, micro_f1, macro_f1):\n",
    "    print(f'Acurácia: %.2f' % (acuracia*100))\n",
    "    print(f'precision: %.2f' % (precision*100))\n",
    "    print(f'recal: %.2f' % (recal*100))\n",
    "    print(f'micro-f1: %.2f' % (micro_f1*100))\n",
    "    print(f'macro-f1: %.2f' % (macro_f1*100))"
   ]
  },
  {
   "cell_type": "markdown",
   "id": "c051bb69-c2a6-484c-9ecf-a9e9a23474fb",
   "metadata": {},
   "source": [
    "# Machine Learning imports"
   ]
  },
  {
   "cell_type": "code",
   "execution_count": 13,
   "id": "0212a65e-7aed-4b23-86dd-6f13ab08eeb0",
   "metadata": {},
   "outputs": [],
   "source": [
    "# Naive Bayes\n",
    "from sklearn.naive_bayes import GaussianNB\n",
    "from sklearn import model_selection as ms\n",
    "# Libs para metricas e avaliação\n",
    "import sklearn.metrics as metrics"
   ]
  },
  {
   "cell_type": "markdown",
   "id": "6040936f-8ab9-4915-aa26-eac13369917e",
   "metadata": {},
   "source": [
    "# Naive Bayes"
   ]
  },
  {
   "cell_type": "code",
   "execution_count": 14,
   "id": "16330fb7-2058-4aa4-87d0-7ee67c9387ca",
   "metadata": {},
   "outputs": [
    {
     "name": "stdout",
     "output_type": "stream",
     "text": [
      "----------> PONDERAÇÂO tf\n",
      "Acurácia: 92.28\n",
      "precision: 92.29\n",
      "recal: 92.28\n",
      "micro-f1: 92.28\n",
      "macro-f1: 91.86\n",
      "----------> PONDERAÇÂO tf-idf\n",
      "Acurácia: 91.37\n",
      "precision: 91.32\n",
      "recal: 91.37\n",
      "micro-f1: 91.37\n",
      "macro-f1: 91.02\n"
     ]
    }
   ],
   "source": [
    "df_result =  pd.DataFrame()\n",
    "df_result['Index'] = bag_of_word.keys()\n",
    "\n",
    "lista_acuracia = []\n",
    "lista_precisao = []\n",
    "lista_recal = []\n",
    "lista_mif1 = []\n",
    "lista_maf1 = []\n",
    "\n",
    "for key in bag_of_word:\n",
    "    \n",
    "    # Bag of word tf e tf-idf\n",
    "    bag = bag_of_word[key]\n",
    "    \n",
    "    target = twetter_df_clean.Classificacao\n",
    "    \n",
    "    # treino e teste\n",
    "    resource_train, resource_test, target_train, target_test = ms.train_test_split(bag,target,test_size=0.64, random_state=32)\n",
    "    naive_bayes =  GaussianNB()\n",
    "    naive_bayes.fit(resource_train, target_train)\n",
    "    \n",
    "    #predicão\n",
    "    pred =  naive_bayes.predict(resource_test)\n",
    "    \n",
    "    acuracia = metrics.accuracy_score(target_test, pred)\n",
    "    lista_acuracia.append(acuracia)\n",
    "    \n",
    "    precision = metrics.precision_score(target_test, pred, average='weighted')\n",
    "    lista_precisao.append(precision)\n",
    "    \n",
    "    recal = metrics.recall_score(target_test, pred, average='weighted')\n",
    "    lista_recal.append(recal)\n",
    "    \n",
    "    micro_f1 = metrics.f1_score(target_test, pred, average='micro')\n",
    "    lista_mif1.append(micro_f1)\n",
    "    \n",
    "    macro_f1 = metrics.f1_score(target_test, pred, average='macro')\n",
    "    lista_maf1.append(macro_f1)   \n",
    "    \n",
    "    print(f\"----------> PONDERAÇÂO {key}\")\n",
    "    metricas(acuracia, precision, recal, micro_f1, macro_f1)\n",
    "\n",
    "df_result['Acuracia'] = lista_acuracia\n",
    "df_result['Precisao'] = lista_precisao\n",
    "df_result['Recal'] = lista_recal\n",
    "df_result['Micro-f1'] = lista_mif1\n",
    "df_result['Macro-f1'] = lista_maf1\n",
    "    \n",
    "df_result = df_result.set_index('Index')"
   ]
  },
  {
   "cell_type": "markdown",
   "id": "06684583-4af7-4097-9b8f-ef927376897f",
   "metadata": {},
   "source": [
    "# Utilizando o Matplotlib para visualização das métricas"
   ]
  },
  {
   "cell_type": "code",
   "execution_count": 15,
   "id": "7cbc666d-f4e3-4113-b91f-366880b05294",
   "metadata": {
    "tags": []
   },
   "outputs": [
    {
     "data": {
      "image/png": "[encoded data removed]",
      "text/plain": [
       "<Figure size 720x432 with 1 Axes>"
      ]
     },
     "metadata": {
      "needs_background": "light"
     },
     "output_type": "display_data"
    }
   ],
   "source": [
    "labels_numbers = np.arange(len(df_result.columns))  # the label locations\n",
    "width_bar = 0.35  # the width of the bars\n",
    "\n",
    "# Arredondar os valores das métricas para melhorar a visualização no plot.\n",
    "tf_metrics_list = list(round(df_result.iloc[0] * 100, 2))\n",
    "tf_idf_metrics_list = list(round(df_result.iloc[1] * 100, 2))\n",
    "\n",
    "\n",
    "fig, ax = plt.subplots()\n",
    "tf_group = ax.bar(labels_numbers - width_bar/2, tf_metrics_list, width_bar, label='TF')\n",
    "tf_idf_group = ax.bar(labels_numbers + width_bar/2, tf_idf_metrics_list, width_bar, label='TF-IDF')\n",
    "\n",
    "# Add some text for labels, title and custom x-axis tick labels, etc.\n",
    "ax.set_ylabel('Pontuação')\n",
    "ax.set_title('Metricas por tipos de bag of word')\n",
    "ax.set_xticks(labels_numbers, list(df_result.columns))\n",
    "ax.legend()\n",
    "ax.bar_label(tf_group, padding=3)\n",
    "ax.bar_label(tf_idf_group, padding=3)\n",
    "fig.tight_layout()\n",
    "fig.set_size_inches(10, 6)\n",
    "\n",
    "plt.show()"
   ]
  }
 ],
 "metadata": {
  "kernelspec": {
   "display_name": "Python 3 (ipykernel)",
   "language": "python",
   "name": "python3"
  },
  "language_info": {
   "codemirror_mode": {
    "name": "ipython",
    "version": 3
   },
   "file_extension": ".py",
   "mimetype": "text/x-python",
   "name": "python",
   "nbconvert_exporter": "python",
   "pygments_lexer": "ipython3",
   "version": "3.10.4"
  },
  "toc-autonumbering": false
 },
 "nbformat": 4,
 "nbformat_minor": 5
}
