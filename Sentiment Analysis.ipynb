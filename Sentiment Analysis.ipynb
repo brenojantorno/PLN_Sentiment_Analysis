{
 "cells": [
  {
   "cell_type": "code",
   "execution_count": 162,
   "id": "623173c3",
   "metadata": {
    "tags": []
   },
   "outputs": [],
   "source": [
    "#Lib para manipulação de dados\n",
    "import numpy as np\n",
    "import pandas as pd\n",
    "import matplotlib.pyplot as plt\n",
    "\n",
    "# IO bibliotecas\n",
    "import os\n",
    "import csv\n",
    "\n",
    "# Visualização de progressão para laços\n",
    "from tqdm import tqdm\n",
    "import seaborn as sns\n",
    "\n",
    "# regex\n",
    "import re\n",
    "\n",
    "#NLTK — The Natural Language ToolKit is one of the best-known and most-used NLP libraries, \n",
    "#useful for all sorts of tasks from tokenization, stemming, tagging, parsing, and beyond\n",
    "import nltk\n",
    "from nltk.tokenize import word_tokenize, sent_tokenize\n",
    "from nltk.corpus import stopwords\n",
    "from nltk.stem import PorterStemmer\n",
    "\n",
    "# Remoção de acentos graficos\n",
    "import unidecode\n",
    "\n",
    "# Libs para metricas e avaliação\n",
    "import sklearn.metrics as metrics\n",
    "from sklearn.feature_extraction.text import CountVectorizer, TfidfVectorizer  # tf, tf-idf\n",
    "# Machine learning\n",
    "# Naive Bayes\n",
    "from sklearn.naive_bayes import GaussianNB\n",
    "from sklearn import model_selection as ms\n",
    "\n",
    "#WordCloud\n",
    "\n",
    "from wordcloud import WordCloud"
   ]
  },
  {
   "cell_type": "code",
   "execution_count": 163,
   "id": "623173c3",
   "metadata": {
    "tags": []
   },
   "outputs": [],
   "source": [
    "#Lib para manipulação de dados\n",
    "import numpy as np\n",
    "import pandas as pd\n",
    "import matplotlib.pyplot as plt\n",
    "\n",
    "# IO bibliotecas\n",
    "import os\n",
    "import csv\n",
    "\n",
    "# Visualização de progressão para laços\n",
    "from tqdm import tqdm\n",
    "import seaborn as sns\n",
    "\n",
    "# regex\n",
    "import re\n",
    "\n",
    "#NLTK — The Natural Language ToolKit is one of the best-known and most-used NLP libraries, \n",
    "#useful for all sorts of tasks from tokenization, stemming, tagging, parsing, and beyond\n",
    "import nltk\n",
    "from nltk.tokenize import word_tokenize, sent_tokenize\n",
    "from nltk.corpus import stopwords\n",
    "from nltk.stem import PorterStemmer\n",
    "\n",
    "# Remoção de acentos graficos\n",
    "import unidecode\n",
    "\n",
    "# Libs para metricas e avaliação\n",
    "import sklearn.metrics as metrics\n",
    "from sklearn.feature_extraction.text import CountVectorizer, TfidfVectorizer  # tf, tf-idf\n",
    "# Machine learning\n",
    "# Naive Bayes\n",
    "from sklearn.naive_bayes import GaussianNB\n",
    "from sklearn import model_selection as ms\n",
    "\n",
    "#WordCloud\n",
    "\n"
   ]
  },
  {
   "cell_type": "code",
   "execution_count": 164,
   "id": "b6698c29",
   "metadata": {},
   "outputs": [
    {
     "data": {
      "text/html": [
       "<div>\n",
       "<style scoped>\n",
       "    .dataframe tbody tr th:only-of-type {\n",
       "        vertical-align: middle;\n",
       "    }\n",
       "\n",
       "    .dataframe tbody tr th {\n",
       "        vertical-align: top;\n",
       "    }\n",
       "\n",
       "    .dataframe thead th {\n",
       "        text-align: right;\n",
       "    }\n",
       "</style>\n",
       "<table border=\"1\" class=\"dataframe\">\n",
       "  <thead>\n",
       "    <tr style=\"text-align: right;\">\n",
       "      <th></th>\n",
       "      <th>Unnamed: 0</th>\n",
       "      <th>Text</th>\n",
       "      <th>Classificacao</th>\n",
       "    </tr>\n",
       "  </thead>\n",
       "  <tbody>\n",
       "    <tr>\n",
       "      <th>0</th>\n",
       "      <td>0</td>\n",
       "      <td>���⛪ @ Catedral de Santo Antônio - Governador ...</td>\n",
       "      <td>Neutro</td>\n",
       "    </tr>\n",
       "    <tr>\n",
       "      <th>1</th>\n",
       "      <td>1</td>\n",
       "      <td>� @ Governador Valadares, Minas Gerais https:/...</td>\n",
       "      <td>Neutro</td>\n",
       "    </tr>\n",
       "    <tr>\n",
       "      <th>2</th>\n",
       "      <td>2</td>\n",
       "      <td>�� @ Governador Valadares, Minas Gerais https:...</td>\n",
       "      <td>Neutro</td>\n",
       "    </tr>\n",
       "    <tr>\n",
       "      <th>3</th>\n",
       "      <td>3</td>\n",
       "      <td>��� https://t.co/BnDsO34qK0</td>\n",
       "      <td>Neutro</td>\n",
       "    </tr>\n",
       "    <tr>\n",
       "      <th>4</th>\n",
       "      <td>4</td>\n",
       "      <td>��� PSOL vai questionar aumento de vereadores ...</td>\n",
       "      <td>Negativo</td>\n",
       "    </tr>\n",
       "  </tbody>\n",
       "</table>\n",
       "</div>"
      ],
      "text/plain": [
       "   Unnamed: 0                                               Text Classificacao\n",
       "0           0  ���⛪ @ Catedral de Santo Antônio - Governador ...        Neutro\n",
       "1           1  � @ Governador Valadares, Minas Gerais https:/...        Neutro\n",
       "2           2  �� @ Governador Valadares, Minas Gerais https:...        Neutro\n",
       "3           3                        ��� https://t.co/BnDsO34qK0        Neutro\n",
       "4           4  ��� PSOL vai questionar aumento de vereadores ...      Negativo"
      ]
     },
     "execution_count": 164,
     "metadata": {},
     "output_type": "execute_result"
    }
   ],
   "source": [
    "# Twetters sobre o estado de minas gerais\n",
    "twetter_df =  pd.read_csv(\"./archive/tw_pt.csv\")\n",
    "twetter_df.head()"
   ]
  },
  {
   "cell_type": "markdown",
   "id": "dca66583",
   "metadata": {
    "tags": []
   },
   "source": [
    "# StopWords Remoção\n",
    "<p> A remoção dos stopWords serve para que o algoritmo de machine learning foque nas frases principais e não nas mais comuns usadas pela lingua <p/>"
   ]
  },
  {
   "cell_type": "code",
   "execution_count": 165,
   "id": "1fd5dcf0",
   "metadata": {
    "tags": []
   },
   "outputs": [
    {
     "name": "stderr",
     "output_type": "stream",
     "text": [
      "[nltk_data] Downloading package stopwords to\n",
      "[nltk_data]     C:\\Users\\Breno\\AppData\\Roaming\\nltk_data...\n",
      "[nltk_data]   Package stopwords is already up-to-date!\n",
      "[nltk_data] Downloading package punkt to\n",
      "[nltk_data]     C:\\Users\\Breno\\AppData\\Roaming\\nltk_data...\n",
      "[nltk_data]   Package punkt is already up-to-date!\n"
     ]
    }
   ],
   "source": [
    "nltk.download(\"stopwords\")\n",
    "nltk.download('punkt')\n",
    "\n",
    "# Configurando para a lingua portuguesa\n",
    "stop_words = set(stopwords.words('portuguese'))"
   ]
  },
  {
   "cell_type": "code",
   "execution_count": 166,
   "id": "e156e5d7",
   "metadata": {},
   "outputs": [],
   "source": [
    "def removerStopWords(texto):\n",
    "    #Tokenização\n",
    "    word_tokens =  word_tokenize(texto)\n",
    "    \n",
    "    ps = PorterStemmer()\n",
    "    \n",
    "    steamming_words = []\n",
    "    \n",
    "    for word in word_tokens:\n",
    "        steamming_words.append(word)\n",
    "    \n",
    "    #Limpa os tokens removendo as stopwords da lingua portuguesa e converte para string, sem o join retorna um array\n",
    "    sentencas_filtradas =  ' '.join([p for p in word_tokens if not p.lower() in stop_words])         \n",
    "    \n",
    "    return sentencas_filtradas.strip()    "
   ]
  },
  {
   "cell_type": "code",
   "execution_count": 167,
   "id": "0de1a28c",
   "metadata": {},
   "outputs": [],
   "source": [
    "def limparTexto(dataFrame):\n",
    "    result =  pd.DataFrame()\n",
    "    #Percorrer data linha do data frame\n",
    "    for row in tqdm(dataFrame.itertuples(index=True, name=\"Pandas\"), desc=\"Limpar stopWords\"):\n",
    "        Text = row.Text\n",
    "        Classificacao = row.Classificacao\n",
    "        \n",
    "        #Realiza a limpeza de caracteres indesejados no texto.\n",
    "        \n",
    "        Text = unidecode.unidecode(Text)\n",
    "        Text = re.sub(r'http\\S+', '', Text)\n",
    "        Text = removerStopWords(Text)\n",
    "        Text = Text.replace(\" . \",\" \")\n",
    "        Text = Text.replace(\" , \",\" \")\n",
    "        Text = Text.replace(\" - \",\" \")\n",
    "        Text = Text.replace(\" : \",\" \")\n",
    "        Text = Text.replace(\" @ \",\" \")\n",
    "        Text = Text.replace(\" # \",\" \")\n",
    "        Text = Text.lower().strip()\n",
    "    \n",
    "        # Cria um novo dataframe e o concatena ao existente. \n",
    "        linha = pd.Series([Text, Classificacao])        \n",
    "        linha = pd.DataFrame([linha])        \n",
    "        result = pd.concat([linha, result], ignore_index=True)       \n",
    "    \n",
    "    return result"
   ]
  },
  {
   "cell_type": "code",
   "execution_count": 168,
   "id": "27785150",
   "metadata": {},
   "outputs": [
    {
     "name": "stderr",
     "output_type": "stream",
     "text": [
      "Limpar stopWords: 8199it [00:09, 899.89it/s] \n"
     ]
    },
    {
     "data": {
      "text/html": [
       "<div>\n",
       "<style scoped>\n",
       "    .dataframe tbody tr th:only-of-type {\n",
       "        vertical-align: middle;\n",
       "    }\n",
       "\n",
       "    .dataframe tbody tr th {\n",
       "        vertical-align: top;\n",
       "    }\n",
       "\n",
       "    .dataframe thead th {\n",
       "        text-align: right;\n",
       "    }\n",
       "</style>\n",
       "<table border=\"1\" class=\"dataframe\">\n",
       "  <thead>\n",
       "    <tr style=\"text-align: right;\">\n",
       "      <th></th>\n",
       "      <th>Text</th>\n",
       "      <th>Classificacao</th>\n",
       "    </tr>\n",
       "  </thead>\n",
       "  <tbody>\n",
       "    <tr>\n",
       "      <th>0</th>\n",
       "      <td>trio suspeito roubo cargas preso santa luzia (...</td>\n",
       "      <td>Positivo</td>\n",
       "    </tr>\n",
       "    <tr>\n",
       "      <th>1</th>\n",
       "      <td>trio preso suspeito roubo trafico abuso sexual...</td>\n",
       "      <td>Positivo</td>\n",
       "    </tr>\n",
       "    <tr>\n",
       "      <th>2</th>\n",
       "      <td>trio preso suspeito roubo trafico abuso sexual...</td>\n",
       "      <td>Positivo</td>\n",
       "    </tr>\n",
       "    <tr>\n",
       "      <th>3</th>\n",
       "      <td>trio preso suspeito roubo trafico abuso sexual...</td>\n",
       "      <td>Positivo</td>\n",
       "    </tr>\n",
       "    <tr>\n",
       "      <th>4</th>\n",
       "      <td>trio preso suspeito roubo trafico abuso sexual...</td>\n",
       "      <td>Positivo</td>\n",
       "    </tr>\n",
       "  </tbody>\n",
       "</table>\n",
       "</div>"
      ],
      "text/plain": [
       "                                                Text Classificacao\n",
       "0  trio suspeito roubo cargas preso santa luzia (...      Positivo\n",
       "1  trio preso suspeito roubo trafico abuso sexual...      Positivo\n",
       "2  trio preso suspeito roubo trafico abuso sexual...      Positivo\n",
       "3  trio preso suspeito roubo trafico abuso sexual...      Positivo\n",
       "4  trio preso suspeito roubo trafico abuso sexual...      Positivo"
      ]
     },
     "execution_count": 168,
     "metadata": {},
     "output_type": "execute_result"
    }
   ],
   "source": [
    "twetter_df_clean =  limparTexto(twetter_df)\n",
    "twetter_df_clean =  twetter_df_clean.rename(columns= {0: 'Text', 1: \"Classificacao\"})\n",
    "twetter_df_clean.head()"
   ]
  },
  {
   "cell_type": "markdown",
   "id": "b4822c9f",
   "metadata": {},
   "source": [
    "# Bag of Words \n",
    "#### TF & TF-IDF"
   ]
  },
  {
   "cell_type": "code",
   "execution_count": 169,
   "id": "c9eecfe6",
   "metadata": {},
   "outputs": [],
   "source": [
    "bag_of_word = {}\n",
    "#TF\n",
    "vectorizer = CountVectorizer()\n",
    "bag_of_word['tf'] = vectorizer.fit_transform(twetter_df_clean.Text)\n",
    "bag_of_word['tf'] = bag_of_word['tf'].toarray()\n",
    "\n",
    "#TF-IDF\n",
    "vectorizer = TfidfVectorizer()\n",
    "bag_of_word['tf-idf'] = vectorizer.fit_transform(twetter_df_clean.Text)\n",
    "bag_of_word['tf-idf'] = bag_of_word['tf-idf'].toarray()"
   ]
  },
  {
   "cell_type": "code",
   "execution_count": 170,
   "id": "b76ab208",
   "metadata": {},
   "outputs": [],
   "source": [
    "'''\n",
    "Calcular as métricas de acuracia, precisão, recal, micro e macro f1\n",
    "'''\n",
    "def calcularMetricas(dict_metricas, y_test, predict):\n",
    "    acuracia = metrics.accuracy_score(y_test, predict)\n",
    "    dict_metricas['acuracia'].append(acuracia)\n",
    "    \n",
    "    precision = metrics.precision_score(y_test, predict, average='weighted')\n",
    "    dict_metricas['precision'].append(precision)\n",
    "    \n",
    "    recal = metrics.recall_score(y_test, predict, average='weighted')\n",
    "    dict_metricas['recal'].append(recal)\n",
    "    \n",
    "    micro_f1 = metrics.f1_score(y_test, predict, average='micro')\n",
    "    dict_metricas['micro_f1'].append(micro_f1)\n",
    "    \n",
    "    macro_f1 = metrics.f1_score(y_test, predict, average='macro')\n",
    "    dict_metricas['macro_f1'].append(macro_f1) \n",
    "    \n",
    "    print(f\"----------> PONDERAÇÂO {key}\")\n",
    "    metricas(acuracia, precision, recal, micro_f1, macro_f1)"
   ]
  },
  {
   "cell_type": "code",
   "execution_count": 171,
   "id": "e8f4914a",
   "metadata": {},
   "outputs": [],
   "source": [
    "'''\n",
    "Printar as métricas\n",
    "'''\n",
    "def metricas(acuracia, precision,recal, micro_f1, macro_f1):\n",
    "    print(f'Acurácia: %.2f' % (acuracia*100))\n",
    "    print(f'precision: %.2f' % (precision*100))\n",
    "    print(f'recal: %.2f' % (recal*100))\n",
    "    print(f'micro-f1: %.2f' % (micro_f1*100))\n",
    "    print(f'macro-f1: %.2f' % (macro_f1*100))"
   ]
  },
  {
   "cell_type": "markdown",
   "id": "17e5ef74",
   "metadata": {
    "tags": []
   },
   "source": [
    "# Naive Bayes"
   ]
  },
  {
   "cell_type": "code",
   "execution_count": 172,
   "id": "90304579",
   "metadata": {},
   "outputs": [
    {
     "name": "stdout",
     "output_type": "stream",
     "text": [
      "----------> PONDERAÇÂO tf\n",
      "Acurácia: 92.28\n",
      "precision: 92.29\n",
      "recal: 92.28\n",
      "micro-f1: 92.28\n",
      "macro-f1: 91.86\n",
      "----------> PONDERAÇÂO tf-idf\n",
      "Acurácia: 91.37\n",
      "precision: 91.32\n",
      "recal: 91.37\n",
      "micro-f1: 91.37\n",
      "macro-f1: 91.02\n"
     ]
    }
   ],
   "source": [
    "df_result =  pd.DataFrame()\n",
    "df_result['Index'] = bag_of_word.keys()\n",
    "\n",
    "dic_predicts = {}\n",
    "dic_predicts_proba = {}\n",
    "\n",
    "dic_metricas = {'acuracia': [], 'precision': [],'recal': [], 'micro_f1': [], 'macro_f1':[] }\n",
    "\n",
    "target = twetter_df_clean.Classificacao\n",
    "\n",
    "for key, bag in bag_of_word.items():\n",
    "    \n",
    "    # treino e teste\n",
    "    X_train, X_test, y_train, y_test = ms.train_test_split(bag,target,test_size=0.64, random_state=32)\n",
    "    naive_bayes =  GaussianNB()\n",
    "    naive_bayes.fit(X_train, y_train)    \n",
    "    \n",
    "    #predicão\n",
    "    pred =  naive_bayes.predict(X_test)\n",
    "    dic_predicts[key.upper()] = pred\n",
    "    \n",
    "    #Preidição da probabilidade\n",
    "    dic_predicts_proba[key.upper()] = naive_bayes.predict_proba(X_test)\n",
    "    \n",
    "    #Calcular as métricas    \n",
    "    calcularMetricas(dic_metricas, y_test, pred)\n",
    "    \n",
    "df_result['Acuracia'] = dic_metricas['acuracia']\n",
    "df_result['Precisao'] = dic_metricas['precision']\n",
    "df_result['Recal'] = dic_metricas['recal']\n",
    "df_result['Micro-f1'] = dic_metricas['micro_f1']\n",
    "df_result['Macro-f1'] = dic_metricas['macro_f1']\n",
    "df_result = df_result.set_index('Index')"
   ]
  },
  {
   "cell_type": "markdown",
   "id": "ad226c89-bdbc-40bf-806c-151524c6dcc1",
   "metadata": {},
   "source": [
    "# Matriz de Confusão"
   ]
  },
  {
   "cell_type": "code",
   "execution_count": 173,
   "id": "b53a0c57-439a-4e80-a70a-a1400dc093b1",
   "metadata": {},
   "outputs": [
    {
     "data": {
      "image/png": "[encoded data removed]",
      "text/plain": [
       "<Figure size 432x288 with 2 Axes>"
      ]
     },
     "metadata": {
      "needs_background": "light"
     },
     "output_type": "display_data"
    },
    {
     "data": {
      "image/png": "[encoded data removed]",
      "text/plain": [
       "<Figure size 432x288 with 2 Axes>"
      ]
     },
     "metadata": {
      "needs_background": "light"
     },
     "output_type": "display_data"
    }
   ],
   "source": [
    "for key in dic_predicts.keys():    \n",
    "    y_pred = dic_predicts[key]\n",
    "    cm = metrics.confusion_matrix(y_test, y_pred)    \n",
    "    cm_display = metrics.ConfusionMatrixDisplay(cm, display_labels=y_test.unique()).plot()"
   ]
  },
  {
   "cell_type": "code",
   "execution_count": 174,
   "id": "af371050-cbcc-41f1-a814-2850d275916e",
   "metadata": {
    "tags": []
   },
   "outputs": [],
   "source": [
    "# Para caso onde os temos classficações não binarias é necessario utilizar certas manobras para conseguir obtermos a nossa\n",
    "# curva ROC, uma dessas metodologias é comparar uma classe contra as outras, deixando elas binarias de certa forma\n",
    "# Referencia: https://towardsdatascience.com/multiclass-classification-evaluation-with-roc-curves-and-roc-auc-294fd4617e3a"
   ]
  },
  {
   "cell_type": "code",
   "execution_count": 175,
   "id": "f4686d90-4a4c-4532-886f-3e59f43a23b8",
   "metadata": {},
   "outputs": [],
   "source": [
    "def calculate_tpr_fpr(y_real, y_pred):\n",
    "    '''\n",
    "    Calculates the True Positive Rate (tpr) and the True Negative Rate (fpr) based on real and predicted observations\n",
    "    \n",
    "    Args:\n",
    "        y_real: The list or series with the real classes\n",
    "        y_pred: The list or series with the predicted classes\n",
    "        \n",
    "    Returns:\n",
    "        tpr: The True Positive Rate of the classifier\n",
    "        fpr: The False Positive Rate of the classifier\n",
    "    '''\n",
    "    \n",
    "    # Calculates the confusion matrix and recover each element\n",
    "    cm = metrics.confusion_matrix(y_real, y_pred)\n",
    "    TN = cm[0, 0]\n",
    "    FP = cm[0, 1]\n",
    "    FN = cm[1, 0]\n",
    "    TP = cm[1, 1]\n",
    "    \n",
    "    # Calculates tpr and fpr\n",
    "    tpr =  TP/(TP + FN) # sensitivity - true positive rate\n",
    "    fpr = 1 - TN/(TN+FP) # 1-specificity - false positive rate\n",
    "    \n",
    "    return tpr, fpr"
   ]
  },
  {
   "cell_type": "code",
   "execution_count": 176,
   "id": "953b0069-4ccf-4ca6-9e2f-ec296786d9a5",
   "metadata": {},
   "outputs": [],
   "source": [
    "def get_all_roc_coordinates(y_real, y_proba):\n",
    "    '''\n",
    "    Calculates all the ROC Curve coordinates (tpr and fpr) by considering each point as a treshold for the predicion of the class.\n",
    "    \n",
    "    Args:\n",
    "        y_real: The list or series with the real classes.\n",
    "        y_proba: The array with the probabilities for each class, obtained by using the `.predict_proba()` method.\n",
    "        \n",
    "    Returns:\n",
    "        tpr_list: The list of TPRs representing each threshold.\n",
    "        fpr_list: The list of FPRs representing each threshold.\n",
    "    '''\n",
    "    tpr_list = [0]\n",
    "    fpr_list = [0]\n",
    "    for i in range(len(y_proba)):\n",
    "        threshold = y_proba[i]\n",
    "        y_pred = y_proba >= threshold\n",
    "        tpr, fpr = calculate_tpr_fpr(y_real, y_pred)\n",
    "        tpr_list.append(tpr)\n",
    "        fpr_list.append(fpr)\n",
    "    return tpr_list, fpr_list"
   ]
  },
  {
   "cell_type": "code",
   "execution_count": 177,
   "id": "0e490586-ac2c-4334-8041-0822ca9ff735",
   "metadata": {},
   "outputs": [],
   "source": [
    "def plot_roc_curve(tpr, fpr, scatter = True, ax = None, label_name = None):\n",
    "    '''\n",
    "    Plots the ROC Curve by using the list of coordinates (tpr and fpr).\n",
    "    \n",
    "    Args:\n",
    "        tpr: The list of TPRs representing each coordinate.\n",
    "        fpr: The list of FPRs representing each coordinate.\n",
    "        scatter: When True, the points used on the calculation will be plotted with the line (default = True).\n",
    "    '''\n",
    "    if ax == None:\n",
    "        plt.figure(figsize = (5, 5))\n",
    "        ax = plt.axes()\n",
    "    \n",
    "    if scatter:\n",
    "        sns.scatterplot(x = fpr, y = tpr, ax = ax)\n",
    "        \n",
    "    sns.lineplot(x = fpr, y = tpr, ax = ax, legend=\"brief\", label=label_name)\n",
    "    sns.lineplot(x = [0, 1], y = [0, 1], color = 'green', ax = ax)\n",
    "    plt.xlim(-0.05, 1.05)\n",
    "    plt.ylim(-0.05, 1.05)\n",
    "    plt.xlabel(\"False Positive Rate\")\n",
    "    plt.ylabel(\"True Positive Rate\")"
   ]
  },
  {
   "cell_type": "code",
   "execution_count": 180,
   "id": "2490c003-e512-4df1-95d1-d3b8f5532797",
   "metadata": {},
   "outputs": [
    {
     "data": {
      "image/png": "[encoded data removed]",
      "text/plain": [
       "<Figure size 864x576 with 3 Axes>"
      ]
     },
     "metadata": {
      "needs_background": "light"
     },
     "output_type": "display_data"
    }
   ],
   "source": [
    "# Plots the Probability Distributions and the ROC Curves One vs Rest\n",
    "# Utilizando a metodologia OvR One vs Rest ou Um versus o resto\n",
    "\n",
    "plt.figure(figsize = (12, 8))\n",
    "classes =  twetter_df_clean.Classificacao.unique()\n",
    "roc_auc_ovr = {}\n",
    "\n",
    "# Calcula a curva ROC para cada tipo de calculo da bag of words\n",
    "for key in dic_predicts_proba.keys():\n",
    "  \n",
    "  for i in range(len(classes)):\n",
    "      # Recupera a classe\n",
    "      classe = classes[i]\n",
    "      \n",
    "      # Verificar \n",
    "      list_class = [1 if y == classe else 0 for y in y_test]\n",
    "      list_prob =  dic_predicts_proba[key][:, 0]\n",
    "      data = {\"class\": list_class, \"prob\": list_prob}\n",
    "      df_aux = pd.DataFrame(data)\n",
    "\n",
    "      # Calculates the ROC Coordinates and plots the ROC Curves\n",
    "      ax_bottom = plt.subplot(2, 3, i+4)\n",
    "      tpr, fpr = get_all_roc_coordinates(df_aux['class'], df_aux['prob'])\n",
    "      plot_roc_curve(tpr, fpr, scatter = False, ax = ax_bottom, label_name=key)\n",
    "      ax_bottom.set_title(f\"ROC Curve OvR - {classe}\")\n",
    "\n",
    "    # Calculates the ROC AUC OvR\n",
    "      roc_auc_ovr[i] = metrics.roc_auc_score(df_aux['class'], df_aux['prob'])\n",
    "\n",
    "\n",
    "plt.tight_layout()"
   ]
  }
 ],
 "metadata": {
  "kernelspec": {
   "display_name": "Python 3 (ipykernel)",
   "language": "python",
   "name": "python3"
  },
  "language_info": {
   "codemirror_mode": {
    "name": "ipython",
    "version": 3
   },
   "file_extension": ".py",
   "mimetype": "text/x-python",
   "name": "python",
   "nbconvert_exporter": "python",
   "pygments_lexer": "ipython3",
   "version": "3.10.4"
  },
  "toc-autonumbering": false
 },
 "nbformat": 4,
 "nbformat_minor": 5
}
